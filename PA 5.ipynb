{
 "cells": [
  {
   "cell_type": "markdown",
   "id": "944f667d",
   "metadata": {},
   "source": [
    "## Programming Assignment 5\n",
    "## Alex Smith\n",
    "## Fall 2021"
   ]
  },
  {
   "cell_type": "markdown",
   "id": "860d3da0",
   "metadata": {},
   "source": [
    "## Translator"
   ]
  },
  {
   "cell_type": "code",
   "execution_count": 2,
   "id": "dde903bd",
   "metadata": {},
   "outputs": [
    {
     "name": "stdout",
     "output_type": "stream",
     "text": [
      "Enter a work to translate from English to Spanish (Enter 0 to stop):hello\n",
      "The Spanish word for hello is hola.\n",
      "Enter a work to translate from English to Spanish (Enter 0 to stop):water\n",
      "The Spanish word for water is agua.\n",
      "Enter a work to translate from English to Spanish (Enter 0 to stop):0\n"
     ]
    }
   ],
   "source": [
    "translator={'hello' : 'hola',\n",
    "           'cat' : 'gato',\n",
    "           'dog' : 'pero',\n",
    "           'cup' : 'taza',\n",
    "           'horse' : 'caballo',\n",
    "           'orange' : 'naranja',\n",
    "           'red' : 'rojo',\n",
    "           'pencil' : 'lápiz',\n",
    "           'computer' : 'computadora',\n",
    "           'couch' : 'sofá',\n",
    "           'pumpkin' : 'calabaza',\n",
    "           'bird' : 'pájaro',\n",
    "           'table' : 'mesa',\n",
    "           'phone' : 'teléfono',\n",
    "           'candle' : 'vela',\n",
    "           'fork' : 'tenedor',\n",
    "           'knife' : 'cuchillo',\n",
    "           'bottle' : 'botella',\n",
    "           'blanket' : 'manta',\n",
    "           'water' : 'agua'}\n",
    "\n",
    "english = str()\n",
    "\n",
    "while english != '0':\n",
    "    english = str(input('Enter a work to translate from English to Spanish (Enter 0 to stop):'))\n",
    "    \n",
    "    if english !='0':\n",
    "        print('The Spanish word for {} is {}.'.format(english,(translator.get(english,'not in this dictionary'))))\n",
    "        \n",
    "    else:\n",
    "        exit()"
   ]
  },
  {
   "cell_type": "markdown",
   "id": "6f0c8686",
   "metadata": {},
   "source": [
    "## Farenheit to Celcius"
   ]
  },
  {
   "cell_type": "code",
   "execution_count": 6,
   "id": "82e91b51",
   "metadata": {},
   "outputs": [
    {
     "name": "stdout",
     "output_type": "stream",
     "text": [
      "{1: 30.0, 2: 28.333333333333336, 3: 27.77777777777778, 4: 26.666666666666668, 5: 28.333333333333336, 6: 26.11111111111111, 7: 28.333333333333336, 8: 27.222222222222225, 9: 26.666666666666668, 10: 24.444444444444446, 11: 21.11111111111111, 12: 21.666666666666668, 13: 22.77777777777778, 14: 21.666666666666668, 15: 21.11111111111111, 16: 22.77777777777778, 17: 25.0, 18: 23.88888888888889, 19: 26.666666666666668, 20: 29.444444444444446, 21: 30.555555555555557, 22: 31.111111111111114, 23: 28.333333333333336, 24: 26.11111111111111, 25: 28.333333333333336, 26: 27.77777777777778, 27: 26.666666666666668, 28: 24.444444444444446, 29: 23.88888888888889, 30: 25.0}\n"
     ]
    }
   ],
   "source": [
    "weather={1 : 86,\n",
    "        2 : 83,\n",
    "        3 : 82,\n",
    "        4 : 80,\n",
    "        5 : 83,\n",
    "        6 : 79,\n",
    "        7 : 83,\n",
    "        8 : 81,\n",
    "        9 : 80,\n",
    "        10 : 76,\n",
    "        11 : 70,\n",
    "        12 : 71,\n",
    "        13 : 73,\n",
    "        14 : 71,\n",
    "        15 : 70,\n",
    "        16 : 73,\n",
    "        17 : 77,\n",
    "        18 : 75,\n",
    "        19 : 80,\n",
    "        20 : 85,\n",
    "        21 : 87,\n",
    "        22 : 88,\n",
    "        23 : 83,\n",
    "        24 : 79,\n",
    "        25 : 83,\n",
    "        26 : 82,\n",
    "        27 : 80,\n",
    "        28 : 76,\n",
    "        29 : 75,\n",
    "        30 : 77}\n",
    "weather = {day : (5/9)*(temp-32) for (day, temp) in weather.items()}\n",
    "print(weather)"
   ]
  },
  {
   "cell_type": "code",
   "execution_count": 7,
   "id": "71d70a42",
   "metadata": {},
   "outputs": [
    {
     "name": "stdout",
     "output_type": "stream",
     "text": [
      "[(11, 21.11111111111111), (15, 21.11111111111111), (12, 21.666666666666668), (14, 21.666666666666668), (13, 22.77777777777778), (16, 22.77777777777778), (18, 23.88888888888889), (29, 23.88888888888889), (10, 24.444444444444446), (28, 24.444444444444446), (17, 25.0), (30, 25.0), (6, 26.11111111111111), (24, 26.11111111111111), (4, 26.666666666666668), (9, 26.666666666666668), (19, 26.666666666666668), (27, 26.666666666666668), (8, 27.222222222222225), (3, 27.77777777777778), (26, 27.77777777777778), (2, 28.333333333333336), (5, 28.333333333333336), (7, 28.333333333333336), (23, 28.333333333333336), (25, 28.333333333333336), (20, 29.444444444444446), (1, 30.0), (21, 30.555555555555557), (22, 31.111111111111114)]\n",
      "(11, 21.11111111111111)\n",
      "(21, 30.555555555555557)\n"
     ]
    }
   ],
   "source": [
    "x = list(weather.items())\n",
    "x.sort(key=lambda x: x[1])\n",
    "print(x)\n",
    "print(x[0])\n",
    "print(x[-2])"
   ]
  },
  {
   "cell_type": "markdown",
   "id": "e35ce614",
   "metadata": {},
   "source": [
    "## Symmetric_difference(^)"
   ]
  },
  {
   "cell_type": "code",
   "execution_count": 8,
   "id": "2263633a",
   "metadata": {},
   "outputs": [
    {
     "data": {
      "text/plain": [
       "{3, 4, 5, 6, 8, 9, 10}"
      ]
     },
     "execution_count": 8,
     "metadata": {},
     "output_type": "execute_result"
    }
   ],
   "source": [
    "#Returns elements of each set that are not in common with eachother\n",
    "\n",
    "set1 = {1, 2, 3, 4, 5, 6}\n",
    "set2 = {1, 2, 8, 9, 10}\n",
    "set1^set2"
   ]
  },
  {
   "cell_type": "markdown",
   "id": "10453c96",
   "metadata": {},
   "source": [
    "## .isdisjoint()"
   ]
  },
  {
   "cell_type": "code",
   "execution_count": 9,
   "id": "d9ad060b",
   "metadata": {},
   "outputs": [
    {
     "name": "stdout",
     "output_type": "stream",
     "text": [
      "False\n",
      "True\n"
     ]
    }
   ],
   "source": [
    "# returns true if sets have no items in common, false if they do\n",
    "set1 = {1, 2, 3}\n",
    "set2 = {3, 4, 5}\n",
    "set3 = {4, 5, 6}\n",
    "print(set1.isdisjoint(set2))\n",
    "print(set1.isdisjoint(set3))"
   ]
  },
  {
   "cell_type": "markdown",
   "id": "c70af1a3",
   "metadata": {},
   "source": [
    "## Intersection_update(&=)"
   ]
  },
  {
   "cell_type": "code",
   "execution_count": 10,
   "id": "14edb2db",
   "metadata": {},
   "outputs": [
    {
     "data": {
      "text/plain": [
       "{1, 3, 5}"
      ]
     },
     "execution_count": 10,
     "metadata": {},
     "output_type": "execute_result"
    }
   ],
   "source": [
    "#removes items that are not present in both sets\n",
    "set1 = {1, 2, 3, 4, 5, 6}\n",
    "set2 = {1, 3, 5, 7}\n",
    "set1 &= set2\n",
    "set1"
   ]
  },
  {
   "cell_type": "markdown",
   "id": "1208e203",
   "metadata": {},
   "source": [
    "## Symmetric_difference(^=)"
   ]
  },
  {
   "cell_type": "code",
   "execution_count": 11,
   "id": "98a3abe6",
   "metadata": {},
   "outputs": [
    {
     "data": {
      "text/plain": [
       "{5, 15, 25, 40, 50}"
      ]
     },
     "execution_count": 11,
     "metadata": {},
     "output_type": "execute_result"
    }
   ],
   "source": [
    "#returns a set that contains all items from each set, except for items present in both sets\n",
    "set1 = {5, 10, 15, 20, 25, 30}\n",
    "set2 = {10, 20, 30, 40, 50}\n",
    "set1 ^= set2\n",
    "set1"
   ]
  },
  {
   "cell_type": "markdown",
   "id": "35520a21",
   "metadata": {},
   "source": [
    "## .remove(), .discard(), .pop()"
   ]
  },
  {
   "cell_type": "code",
   "execution_count": 12,
   "id": "e25bdb29",
   "metadata": {},
   "outputs": [
    {
     "name": "stdout",
     "output_type": "stream",
     "text": [
      "{2, 3, 4, 5, 6}\n",
      "{3, 4, 5, 6}\n",
      "{3, 4, 5, 6}\n"
     ]
    }
   ],
   "source": [
    "#.remove() and .discard() work the same but, discard doesn't generate an error.\n",
    "#.pop() selects a random element and removes it\n",
    "\n",
    "setA = {1, 2, 3, 4, 5, 6}\n",
    "\n",
    "setA.remove(1)\n",
    "print(setA)\n",
    "setA.discard(2)\n",
    "print(setA)\n",
    "setA.discard(7)\n",
    "print(setA)"
   ]
  },
  {
   "cell_type": "code",
   "execution_count": 13,
   "id": "7f0dd2b9",
   "metadata": {},
   "outputs": [
    {
     "ename": "KeyError",
     "evalue": "7",
     "output_type": "error",
     "traceback": [
      "\u001b[1;31m---------------------------------------------------------------------------\u001b[0m",
      "\u001b[1;31mKeyError\u001b[0m                                  Traceback (most recent call last)",
      "\u001b[1;32m<ipython-input-13-0aa409ddd83e>\u001b[0m in \u001b[0;36m<module>\u001b[1;34m\u001b[0m\n\u001b[1;32m----> 1\u001b[1;33m \u001b[0msetA\u001b[0m\u001b[1;33m.\u001b[0m\u001b[0mremove\u001b[0m\u001b[1;33m(\u001b[0m\u001b[1;36m7\u001b[0m\u001b[1;33m)\u001b[0m\u001b[1;33m\u001b[0m\u001b[1;33m\u001b[0m\u001b[0m\n\u001b[0m",
      "\u001b[1;31mKeyError\u001b[0m: 7"
     ]
    }
   ],
   "source": [
    "setA.remove(7)"
   ]
  },
  {
   "cell_type": "code",
   "execution_count": 14,
   "id": "4758de82",
   "metadata": {},
   "outputs": [
    {
     "name": "stdout",
     "output_type": "stream",
     "text": [
      "{4, 5, 6}\n"
     ]
    }
   ],
   "source": [
    "setA.pop()\n",
    "print(setA)"
   ]
  },
  {
   "cell_type": "code",
   "execution_count": null,
   "id": "3120cda4",
   "metadata": {},
   "outputs": [],
   "source": []
  }
 ],
 "metadata": {
  "kernelspec": {
   "display_name": "Python 3",
   "language": "python",
   "name": "python3"
  },
  "language_info": {
   "codemirror_mode": {
    "name": "ipython",
    "version": 3
   },
   "file_extension": ".py",
   "mimetype": "text/x-python",
   "name": "python",
   "nbconvert_exporter": "python",
   "pygments_lexer": "ipython3",
   "version": "3.8.8"
  }
 },
 "nbformat": 4,
 "nbformat_minor": 5
}
